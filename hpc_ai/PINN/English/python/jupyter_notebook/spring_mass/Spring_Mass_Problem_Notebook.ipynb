{
 "cells": [
  {
   "cell_type": "markdown",
   "metadata": {},
   "source": [
    "&emsp;&emsp;&emsp;&emsp;&emsp;\n",
    "&emsp;&emsp;&emsp;&emsp;&emsp;\n",
    "&emsp;&emsp;&emsp;&emsp;&emsp;\n",
    "&emsp;&emsp;&emsp;&emsp;&emsp;\n",
    "&emsp;&emsp;&ensp;\n",
    "[Home Page](../../Start_Here.ipynb)\n",
    "\n",
    "[Previous Notebook](../diffusion_1d/Diffusion_Problem_Notebook.ipynb)\n",
    "&emsp;&emsp;&emsp;&emsp;&emsp;\n",
    "&emsp;&emsp;&emsp;&emsp;&emsp;\n",
    "&emsp;&emsp;&emsp;&emsp;&emsp;\n",
    "&emsp;&emsp;&emsp;&emsp;&emsp;\n",
    "&emsp;&emsp;&ensp;\n",
    "[1](../introduction/Introductory_Notebook.ipynb)\n",
    "[2](../diffusion_1d/Diffusion_Problem_Notebook.ipynb)\n",
    "[3]\n",
    "[4](../chip_2d/Challenge_CFD_Problem_Notebook.ipynb)\n",
    "&emsp;&emsp;&emsp;&emsp;&emsp;\n",
    "&emsp;&emsp;&emsp;&emsp;&emsp;\n",
    "&emsp;&emsp;&emsp;&emsp;&emsp;\n",
    "&emsp;&emsp;&emsp;&emsp;&emsp;\n",
    "[Next Notebook](../chip_2d/Challenge_CFD_Problem_Notebook.ipynb)\n",
    "\n",
    "# Solving Ordinary Differential Equations using PINNs"
   ]
  },
  {
   "cell_type": "markdown",
   "metadata": {},
   "source": [
    "Now that we have familirized ourself with the Modulus APIs and solved the 1-dimensional diffusion equation in a single simulation and parameterized setting, we move to the next application of PINNs. In this notebook we will solve the system of differential equations that define a coupled spring mass porblem. In this tutorial we will see how to solve the transient problems over small time intervals easily by treating time as a continuous variable. We will also use PINNs to solve the problem in an inverse setting where we have the solution data and we use PINN to find the coefficient of the ODE.\n",
    "\n",
    "You can refer to the *Modulus User Guide Chapter 4 and Chpater 12* for more examples on solving different types of time domain problems and inverse problems respectively. Also, for more information about the Modulus APIs you can refer the *Modulus Source Code Documentation*. "
   ]
  },
  {
   "cell_type": "markdown",
   "metadata": {},
   "source": [
    "### Learning Outcomes\n",
    "1. How to use Modulus to simulate transient problems using PINNs by treating time as a continuous variable\n",
    "2. How to use Modulus to solve a inverse problem\n",
    "    "
   ]
  },
  {
   "attachments": {
    "spring_mass_drawing.png": {
     "image/png": "[encoded data removed]"
    }
   },
   "cell_type": "markdown",
   "metadata": {},
   "source": [
    "## Problem Description\n",
    "\n",
    "In this tutorial, we will solve a simple spring mass system as shown in figure below. The systems shows three masses attached to each other by four springs. The springs slide along a friction-less horizontal surface. The masses are assumed to be point masses and the springs are mass-less.\n",
    "\n",
    "![spring_mass_drawing.png](attachment:spring_mass_drawing.png)\n",
    "\n",
    "The model's equations are given as below:\n",
    "$$\n",
    "\\begin{equation}\\label{ode_eqn}\n",
    "\\begin{split}\n",
    "m_1 x_1''(t) &= -k_1 x_1(t) + k_2(x_2(t) - x_1(t)),\\\\\n",
    "m_2 x_2''(t) &= -k_2 (x_2(t) - x_1(t))+ k_3(x_3(t) - x_2(t)),\\\\\n",
    "m_3 x_3''(t) &= -k_3 (x_3(t) - x_2(t)) - k_4 x_3(t). \\end{split}\n",
    "\\end{equation}\n",
    "$$\n",
    "\n",
    "Where, $x_1(t), x_2(t), \\text{and } x_3(t)$ denote the mass positions along the horizontal surface measured from their equilibrium position, plus right and minus left. As shown in the figure, first and the last spring are fixed to the walls. \n",
    "\n",
    "For the first part of the tutorial, we will assume the following conditions:\n",
    "$$\n",
    "\\begin{equation}\\label{ode_IC}\n",
    "\\begin{split}\n",
    "[m_1, m_2, m_3] &= [1, 1, 1],\\\\\n",
    "[k_1, k_2, k_3, k_4] &= [2, 1, 1, 2],\\\\\n",
    "[x_1(0), x_2(0), x_3(0)] &= [1, 0, 0],\\\\\n",
    "[x_1'(0), x_2'(0), x_3'(0)] &= [0, 0, 0].\n",
    "\\end{split}\n",
    "\\end{equation}\n",
    "$$"
   ]
  },
  {
   "cell_type": "markdown",
   "metadata": {},
   "source": [
    "## Case Setup\n",
    "\n",
    "Now that we have our problem defined, let's take a look at the code required to solve it using Modulus. "
   ]
  },
  {
   "cell_type": "markdown",
   "metadata": {},
   "source": [
    "## Defining the differential equations for the problem\n",
    "\n",
    "This process is similar to the previous tutorial. We will write each parameter ($k's \\text{ and } m's$) as function and substitute it as a number if its constant. This will allow usto parameterize any of this constants by passing them as a string. This will also allow us to solve the inverse problem where either of these quantitity is unknown and can be predicted by the neural network. "
   ]
  },
  {
   "cell_type": "code",
   "execution_count": null,
   "metadata": {},
   "outputs": [],
   "source": [
    "from sympy import Symbol, Function, Number\n",
    "from modulus.pdes import PDES\n",
    "from modulus.variables import Variables\n",
    "\n",
    "class SpringMass(PDES):\n",
    "  name= 'SpringMass'\n",
    "\n",
    "  def __init__(self, k=(2, 1, 1, 2), m=(1, 1, 1)):\n",
    "    \n",
    "    self.k  = k\n",
    "    self.m  = m\n",
    "\n",
    "    k1 = k[0]\n",
    "    k2 = k[1]\n",
    "    k3 = k[2]\n",
    "    k4 = k[3]\n",
    "    m1 = m[0]\n",
    "    m2 = m[1]\n",
    "    m3 = m[2]\n",
    "\n",
    "    t=Symbol('t')\n",
    "    input_variables = {'t':t}\n",
    "    \n",
    "    x1 = Function('x1')(*input_variables)\n",
    "    x2 = Function('x2')(*input_variables)\n",
    "    x3 = Function('x3')(*input_variables)\n",
    "\n",
    "    if type(k1) is str:\n",
    "        k1 = Function(k1)(*input_variables)\n",
    "    elif type(k1) in [float, int]:\n",
    "        k1 = Number(k1)\n",
    "    if type(k2) is str:\n",
    "        k2 = Function(k2)(*input_variables)\n",
    "    elif type(k2) in [float, int]:\n",
    "        k2 = Number(k2)\n",
    "    if type(k3) is str:\n",
    "        k3 = Function(k3)(*input_variables)\n",
    "    elif type(k3) in [float, int]:\n",
    "        k3 = Number(k3)\n",
    "    if type(k4) is str:\n",
    "        k4 = Function(k4)(*input_variables)\n",
    "    elif type(k4) in [float, int]:\n",
    "        k4 = Number(k4)\n",
    "\n",
    "    if type(m1) is str:\n",
    "        m1 = Function(m1)(*input_variables)\n",
    "    elif type(m1) in [float, int]:\n",
    "        m1 = Number(m1)\n",
    "    if type(m2) is str:\n",
    "        m2 = Function(m2)(*input_variables)\n",
    "    elif type(m2) in [float, int]:\n",
    "        m2 = Number(m2)\n",
    "    if type(m3) is str:\n",
    "        m3 = Function(m3)(*input_variables)\n",
    "    elif type(m3) in [float, int]:\n",
    "        m3 = Number(m3)\n",
    "\n",
    "    self.equations = Variables()\n",
    "    self.equations['ode_x1'] = m1*(x1.diff(t)).diff(t) + k1*x1 - k2*(x2 - x1)\n",
    "    self.equations['ode_x2'] = m2*(x2.diff(t)).diff(t) + k2*(x2 - x1) - k3*(x3 - x2)\n",
    "    self.equations['ode_x3'] = m3*(x3.diff(t)).diff(t) + k3*(x3 - x2) + k4*x3"
   ]
  },
  {
   "cell_type": "markdown",
   "metadata": {},
   "source": [
    "## Creating the geometry\n",
    "\n",
    "Once we have the ODEs defined, we can easily form the train domain as seen in earlier tutorials. In this example, we will use `Point1D` geometry to create the point mass. We will also define the time range of the solution and create symbol for time ($t$) to define the initial condition etc. in train domain. The below code shows the geometry definition for this problem. The strategy of solving transient problem using time as a continuous variable is same as solving a parameterized problem, i.e. we will create a symbolic variable for time `t` and use the time range as an input to the `param_ranges` attribute for the boundary and interior sampling"
   ]
  },
  {
   "cell_type": "code",
   "execution_count": null,
   "metadata": {},
   "outputs": [],
   "source": [
    "from sympy import Symbol, Eq\n",
    "import numpy as np\n",
    "from modulus.solver import Solver\n",
    "from modulus.dataset import TrainDomain, ValidationDomain\n",
    "from modulus.data import Validation\n",
    "from modulus.sympy_utils.geometry_1d import Point1D\n",
    "from modulus.controller import ModulusController\n",
    "from modulus.plot_utils.vtk import var_to_vtk\n",
    "\n",
    "import os\n",
    "import sys\n",
    "\n",
    "sys.path.append('../../source_code/spring_mass')\n",
    "\n",
    "from spring_mass_ode import SpringMass\n",
    "\n",
    "# define time variable and range\n",
    "t_max = 10.0\n",
    "t_symbol = Symbol('t')\n",
    "x = Symbol('x')\n",
    "time_range = {t_symbol: (0, t_max)}\n",
    "\n",
    "geo = Point1D(0)"
   ]
  },
  {
   "cell_type": "markdown",
   "metadata": {},
   "source": [
    "## Creating Train Domain: Assigning the initial conditions and equations\n",
    "\n",
    "Next, we will define the train domain using the 1d point we just defined. Please note that we would not be using the x-coordinate ($x$) information of the point, and it is only used to sample a point in space. We will assign it different values for variable ($t$) only (initial conditions and ODEs over the time-range). "
   ]
  },
  {
   "cell_type": "code",
   "execution_count": null,
   "metadata": {},
   "outputs": [],
   "source": [
    "class SpringMassTrain(TrainDomain):\n",
    "  def __init__(self, **config):\n",
    "    super(SpringMassTrain, self).__init__()\n",
    "\n",
    "    # initial conditions\n",
    "    IC = geo.boundary_bc(outvar_sympy={'x1': 1.,\n",
    "                                       'x2': 0,\n",
    "                                       'x3': 0,\n",
    "                                       'x1__t': 0,\n",
    "                                       'x2__t': 0,\n",
    "                                       'x3__t': 0},\n",
    "                         param_ranges={t_symbol: 0},\n",
    "                         batch_size_per_area=1)\n",
    "    self.add(IC, name=\"IC\")\n",
    "\n",
    "    # solve over given time period\n",
    "    interior = geo.boundary_bc(outvar_sympy={'ode_x1': 0.0,\n",
    "                                             'ode_x2': 0.0,\n",
    "                                             'ode_x3': 0.0}, \n",
    "                               param_ranges=time_range,\n",
    "                               batch_size_per_area=500)\n",
    "    self.add(interior, name=\"Interior\")"
   ]
  },
  {
   "cell_type": "markdown",
   "metadata": {},
   "source": [
    "## Creating Validation Domain\n",
    "\n",
    "Next we will define the validation data for this problem. The solution of this problem can be obtained analytically and the expression can be coded into dictionaries of numpy arrays for `x1`, `x2`, and `x3`. This part of the code is similar to the previous diffusion example."
   ]
  },
  {
   "cell_type": "code",
   "execution_count": null,
   "metadata": {},
   "outputs": [],
   "source": [
    "class SpringMassVal(ValidationDomain):\n",
    "   def __init__(self, **config):\n",
    "     super(SpringMassVal, self).__init__()\n",
    "     deltaT = 0.001\n",
    "     t = np.arange(0, t_max, deltaT)\n",
    "     t = np.expand_dims(t, axis=-1) \n",
    "     invar_numpy = {'t': t}\n",
    "     outvar_numpy = {'x1': (1/6)*np.cos(t) + (1/2)*np.cos(np.sqrt(3)*t) + (1/3)*np.cos(2*t),\n",
    "                     'x2': (2/6)*np.cos(t) + (0/2)*np.cos(np.sqrt(3)*t) - (1/3)*np.cos(2*t),\n",
    "                     'x3': (1/6)*np.cos(t) - (1/2)*np.cos(np.sqrt(3)*t) + (1/3)*np.cos(2*t)} \n",
    "     val = Validation.from_numpy(invar_numpy, outvar_numpy)\n",
    "     self.add(val, name=\"Val\")"
   ]
  },
  {
   "cell_type": "markdown",
   "metadata": {},
   "source": [
    "## Creating the Neural Network Solver\n",
    "\n",
    "Now that we have the train domain and other validation and monitor domains defined, we can prepare the neural network solver and run the problem. We can see that since this is problem involves only time dimension, we will creat the network with only `t` as input. "
   ]
  },
  {
   "cell_type": "code",
   "execution_count": null,
   "metadata": {},
   "outputs": [],
   "source": [
    "class SpringMassSolver(Solver):\n",
    "  train_domain = SpringMassTrain\n",
    "  val_domain = SpringMassVal\n",
    "\n",
    "  def __init__(self, **config):\n",
    "    super(SpringMassSolver, self).__init__(**config)\n",
    "\n",
    "    self.equations = SpringMass(k=(2, 1, 1, 2), m=(1, 1, 1)).make_node()\n",
    "\n",
    "    spring_net = self.arch.make_node(name='spring_net',\n",
    "                                   inputs=['t'],\n",
    "                                   outputs=['x1','x2','x3'])\n",
    "    self.nets = [spring_net]\n",
    "\n",
    "  @classmethod # Explain This\n",
    "  def update_defaults(cls, defaults):\n",
    "    defaults.update({\n",
    "        'network_dir': './network_checkpoint_spring_mass',\n",
    "        'max_steps': 10000,\n",
    "        'decay_steps': 100,\n",
    "        'nr_layers': 6,\n",
    "        'layer_size': 256,\n",
    "        'xla': True,\n",
    "        })"
   ]
  },
  {
   "cell_type": "markdown",
   "metadata": {},
   "source": [
    "Awesome! We have just completed the file set up for the problem. We are now ready to solve the sytem of ODEs using Neural Networks!"
   ]
  },
  {
   "cell_type": "code",
   "execution_count": null,
   "metadata": {},
   "outputs": [],
   "source": [
    "import os\n",
    "import sys\n",
    "\n",
    "sys.path.append('../../source_code/spring_mass')\n",
    "!python ../../source_code/spring_mass/spring_mass_solver.py "
   ]
  },
  {
   "cell_type": "markdown",
   "metadata": {},
   "source": [
    "## Visualizing the solution\n",
    "\n",
    "The .npz arrays can be plotted to visualize the output of the simulation. The .npz files that are created are found in the `network_checkpoint*` directory. The below figure shows the comparison of the neural network solution and the analytical solution. Again, we have a very good agreement in both the results. \n",
    "\n",
    "<img src=\"comparison.png\" alt=\"Drawing\" style=\"width: 500px;\"/>\n",
    "\n",
    "The below script shows an example of how the npz arrays can be plotted. "
   ]
  },
  {
   "cell_type": "code",
   "execution_count": null,
   "metadata": {},
   "outputs": [],
   "source": [
    "%%capture\n",
    "import sys\n",
    "!{sys.executable} -m pip install ipympl\n",
    "%matplotlib inline\n",
    "import matplotlib.pyplot as plt\n",
    "\n",
    "base_dir = './network_checkpoint_spring_mass/val_domain/results/'\n",
    "# plot in 1d\n",
    "predicted_data = np.load(base_dir + 'Val_pred.npz', allow_pickle=True)\n",
    "true_data = np.load(base_dir + 'Val_true.npz', allow_pickle=True)\n",
    "predicted_data = np.atleast_1d(predicted_data.f.arr_0)[0]\n",
    "true_data = np.atleast_1d(true_data.f.arr_0)[0]\n",
    "\n",
    "plt.plot(true_data['t'], true_data['x1'], label='True x1')\n",
    "plt.plot(true_data['t'], true_data['x2'], label='True x2')\n",
    "plt.plot(true_data['t'], true_data['x3'], label='True x3')\n",
    "plt.plot(predicted_data['t'], predicted_data['x1'], label='Pred x1')\n",
    "plt.plot(predicted_data['t'], predicted_data['x2'], label='Pred x2')\n",
    "plt.plot(predicted_data['t'], predicted_data['x3'], label='Pred x3')\n",
    "plt.xlabel(\"Time\")\n",
    "plt.ylabel(\"Displacement\")\n",
    "plt.legend()\n",
    "plt.savefig('comparison_spring_mass.png')"
   ]
  },
  {
   "cell_type": "code",
   "execution_count": null,
   "metadata": {},
   "outputs": [],
   "source": [
    "from IPython.display import Image\n",
    "Image(filename='comparison_spring_mass.png') "
   ]
  },
  {
   "cell_type": "markdown",
   "metadata": {},
   "source": [
    "# Solving the Inverse Problem\n",
    "\n",
    "Another important advantage of a neural network solver over traditional numerical methods is its ability to solve inverse problems. In an inverse problem, we start with a set of observations and then use those observations to calculate the causal factors that produced them. To demonstrate this concept we will solve the same spring mass system in an inverse setting. Specifically, we will assume that the data for the displacements of the 3 masses $x_1, x_2 \\text{ and } x_3$ is available to us through analytical solution and the first mass ($m_1$) and the last spring coefficient ($k_4$) is unknown. We will use the neural network to assimilate the displacements from the analytical solution and use it to invert out the unknown quantites from ODEs."
   ]
  },
  {
   "cell_type": "markdown",
   "metadata": {},
   "source": [
    "## Case Setup\n",
    "\n",
    "The equation file again remains same for this part. Here, we will use the `BC` class to assimilate the solution in the training data. Then we will make a network to memorize the three displacements by developing a mapping between $t$ and $(x_1, x_2, x_3)$. The second network will be trained to invert out the desired quantites viz. $(m_1, k_4)$. "
   ]
  },
  {
   "cell_type": "markdown",
   "metadata": {},
   "source": [
    "## Creating Train Domain\n",
    "\n",
    "For this problem, we will use the solution coming from analytical solution in from of numpy arrays. We will use the `BC` class to handle such input data. The `BC` class takes in separate dictionaries for input variables and output variables. These dictionaries have a key for each variable and a numpy array of values associated to the key. The `BC` class can be used to assimilate more data even in the forms of a text, CSV, etc. file formats. All we need to do is to convert them into pairs of key and variable and form a dictionary. The `BC` class is very versatile and forms the parent class for the `interior_bc` and `boundary_bc` methods that we have used in the previous tutorials. More information on how to use the `BC` class can be found in the *Modulus User Guide Chapter 12*.\n",
    "\n",
    "Since part of the problem involves memorizing the given flow field, we will have `['t']` as input keys and `['x_1', 'x_2', 'x_3', 'ode_x1', 'ode_x2', 'ode_x3']` as the output keys. Setting `['x_1', 'x_2', 'x_3']` as input values from analytical data, we are essentially making the network assimilate the analytical distribution of these variables in the selected domain. Setting `['ode_x1', 'ode_x2', 'ode_x3']` equal to 0, we also inform the network to satisfy the ODE losses at those sampled points. Now assuming that we also know the initial conditions of the solution, except the `'m_1'` and `'k_4'`, all the variables in these ODEs are known. Thus the network can use this information to invert out the unknowns. Lets only look at the major additions/changes to the code. The full script can be referred in `spring_mass_inverse.py`. "
   ]
  },
  {
   "cell_type": "code",
   "execution_count": null,
   "metadata": {},
   "outputs": [],
   "source": [
    "# define time variable and range\n",
    "t_max = 10.0\n",
    "t_symbol = Symbol('t')\n",
    "x = Symbol('x')\n",
    "time_range = {t_symbol: (0, t_max)}\n",
    "\n",
    "geo = Point1D(0)\n",
    "\n",
    "deltaT = 0.01\n",
    "t = np.arange(0, t_max, deltaT)\n",
    "t = np.expand_dims(t, axis=-1) \n",
    "\n",
    "invar_numpy = {'t': t}\n",
    "outvar_numpy = {'x1': (1/6)*np.cos(t) + (1/2)*np.cos(np.sqrt(3)*t) + (1/3)*np.cos(2*t),\n",
    "                'x2': (2/6)*np.cos(t) + (0/2)*np.cos(np.sqrt(3)*t) - (1/3)*np.cos(2*t),\n",
    "                'x3': (1/6)*np.cos(t) - (1/2)*np.cos(np.sqrt(3)*t) + (1/3)*np.cos(2*t)} \n",
    "outvar_numpy.update({'ode_x1': np.full_like(invar_numpy['t'], 0)})\n",
    "outvar_numpy.update({'ode_x2': np.full_like(invar_numpy['t'], 0)})\n",
    "outvar_numpy.update({'ode_x3': np.full_like(invar_numpy['t'], 0)})\n",
    "\n",
    "class SpringMassTrain(TrainDomain):\n",
    "  def __init__(self, **config):\n",
    "    super(SpringMassTrain, self).__init__()\n",
    "\n",
    "    # initial conditions\n",
    "    IC = geo.boundary_bc(outvar_sympy={'x1': 1.,\n",
    "                                       'x2': 0,\n",
    "                                       'x3': 0,\n",
    "                                       'x1__t': 0,\n",
    "                                       'x2__t': 0,\n",
    "                                       'x3__t': 0},\n",
    "                         param_ranges={t_symbol: 0},\n",
    "                         batch_size_per_area=1)\n",
    "    self.add(IC, name=\"IC\")\n",
    "\n",
    "    # data\n",
    "    data =  BC.from_numpy(invar_numpy, outvar_numpy)\n",
    "\n",
    "    self.add(data, name=\"Data\")"
   ]
  },
  {
   "cell_type": "markdown",
   "metadata": {},
   "source": [
    "## Creating Monitor Domain\n",
    "\n",
    "For this tutorial, we will create `MonitorDomain` to monitor the convergence of average `'m_1'` and `'k_4'` inside the domain as the solution progresses. Once we find that the average value of these quantities have reached a steady value, we can end the simulation. The code to generate the `MonitorDomain` can be found below"
   ]
  },
  {
   "cell_type": "code",
   "execution_count": null,
   "metadata": {},
   "outputs": [],
   "source": [
    "from modulus.dataset import MonitorDomain\n",
    "class SpringMassMonitor(MonitorDomain):\n",
    "  def __init__(self, **config):\n",
    "    super(SpringMassMonitor, self).__init__()\n",
    "    \n",
    "    global_monitor = Monitor(invar_numpy, {'average_m1': lambda var: tf.reduce_mean(var['m1']),\n",
    "                                           'average_k4': lambda var: tf.reduce_mean(var['k4'])})\n",
    "    self.add(global_monitor, 'GlobalMonitor')"
   ]
  },
  {
   "cell_type": "markdown",
   "metadata": {},
   "source": [
    "## Creating the Neural Network Solver\n",
    "\n",
    "The process of creating a neural network for an inverse problem is similar to other problems we have seen in previous tutorials. However, as the information for the displacements, and in turn their gradients (i.e. velocities and accelerations), is already present (from analytical data) for the network to memorize, we will stop the gradient calls on each of these variables in their respective equations. This means that only the networks predicting `'m1'` and `'k4'` will be optimized to minimize the equation residuals. The displacements, velocities and accelerations are treated as ground truth data.\n",
    "\n",
    "Also, note that the the mass and spring constant are passed in as Symbolic variables (`'m1'` and `'k4'` respectively) to the\n",
    "equations as they are unknowns in this problem."
   ]
  },
  {
   "cell_type": "code",
   "execution_count": null,
   "metadata": {},
   "outputs": [],
   "source": [
    "class SpringMassSolver(Solver):\n",
    "  train_domain = SpringMassTrain\n",
    "  monitor_domain = SpringMassMonitor\n",
    "\n",
    "  def __init__(self, **config):\n",
    "    super(SpringMassSolver, self).__init__(**config)\n",
    "\n",
    "    self.equations = SpringMass(k=(2, 1, 1, 'k4'), m=('m1', 1, 1)).make_node(stop_gradients=['x1', 'x1__t', 'x1__t__t',\n",
    "                                                                                             'x2', 'x2__t', 'x2__t__t',\n",
    "                                                                                             'x3', 'x3__t', 'x3__t__t'])\n",
    "\n",
    "    spring_net = self.arch.make_node(name='spring_net',\n",
    "                                   inputs=['t'],\n",
    "                                   outputs=['x1','x2','x3'])\n",
    "    invert_net = self.arch.make_node(name='invert_net',\n",
    "                                   inputs=['t'],\n",
    "                                   outputs=['m1','k4'])\n",
    "\n",
    "    self.nets = [spring_net, invert_net]\n",
    "\n",
    "  @classmethod # Explain This\n",
    "  def update_defaults(cls, defaults):\n",
    "    defaults.update({\n",
    "        'network_dir': './network_checkpoint_spring_mass_inverse',\n",
    "        'max_steps': 10000,\n",
    "        'decay_steps': 100,\n",
    "        'nr_layers': 6,\n",
    "        'layer_size': 256,\n",
    "        'xla': True,\n",
    "        })"
   ]
  },
  {
   "cell_type": "markdown",
   "metadata": {},
   "source": [
    "## Visualizing the solution\n",
    "\n",
    "We can monitor the Tensorboard plots to see the convergence of the simulation and the final values of the $m_1$ and $k_4$. We see that after sufficient training, we get the $m_1$ and $k_4$ as 1 and 2 respectively. These were the same values that we used to create the analytical solution.\n",
    "\n",
    "\n",
    "# Licensing\n",
    "This material is released by NVIDIA Corporation under the Creative Commons Attribution 4.0 International (CC BY 4.0)\n",
    "\n",
    "\n",
    "&emsp;&emsp;&emsp;&emsp;&emsp;\n",
    "&emsp;&emsp;&emsp;&emsp;&emsp;\n",
    "&emsp;&emsp;&emsp;&emsp;&emsp;\n",
    "&emsp;&emsp;&emsp;&emsp;&emsp;\n",
    "&emsp;&emsp;&ensp;\n",
    "[Home Page](../../Start_Here.ipynb)\n",
    "\n",
    "[Previous Notebook](../diffusion_1d/Diffusion_Problem_Notebook.ipynb)\n",
    "&emsp;&emsp;&emsp;&emsp;&emsp;\n",
    "&emsp;&emsp;&emsp;&emsp;&emsp;\n",
    "&emsp;&emsp;&emsp;&emsp;&emsp;\n",
    "&emsp;&emsp;&emsp;&emsp;&emsp;\n",
    "&emsp;&emsp;&ensp;\n",
    "[1](../introduction/Introductory_Notebook.ipynb)\n",
    "[2](../diffusion_1d/Diffusion_Problem_Notebook.ipynb)\n",
    "[3]\n",
    "[4](../chip_2d/Challenge_CFD_Problem_Notebook.ipynb)\n",
    "&emsp;&emsp;&emsp;&emsp;&emsp;\n",
    "&emsp;&emsp;&emsp;&emsp;&emsp;\n",
    "&emsp;&emsp;&emsp;&emsp;&emsp;\n",
    "&emsp;&emsp;&emsp;&emsp;&emsp;\n",
    "[Next Notebook](../chip_2d/Challenge_CFD_Problem_Notebook.ipynb)\n"
   ]
  }
 ],
 "metadata": {
  "kernelspec": {
   "display_name": "Python 3",
   "language": "python",
   "name": "python3"
  },
  "language_info": {
   "codemirror_mode": {
    "name": "ipython",
    "version": 3
   },
   "file_extension": ".py",
   "mimetype": "text/x-python",
   "name": "python",
   "nbconvert_exporter": "python",
   "pygments_lexer": "ipython3",
   "version": "3.8.5"
  }
 },
 "nbformat": 4,
 "nbformat_minor": 4
}
