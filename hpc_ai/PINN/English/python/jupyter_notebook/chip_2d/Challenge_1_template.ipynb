{
 "cells": [
  {
   "cell_type": "markdown",
   "metadata": {},
   "source": [
    "## Problem Statement\n",
    "\n",
    "You will have to use PINNs to solve the fluid flow for the given geometry and flow parameters.\n",
    "\n",
    "A 2D chip is placed inside a 2D channel. The flow enters inlet at $u=1.5\\text{ m/s}$ and exits through the outlet which is a $0 Pa$. All the other walls are treated as no-slip. The kinematic viscosity $(\\nu)$ for the flow is $0.02 \\text{ }m^2/s$ and the density $(\\rho)$ is $1 \\text{ }kg/m^3$. The problem is shown in the figure below.\n",
    "\n",
    "<img src=\"chip_2d_geom.png\" alt=\"Drawing\" style=\"width: 800px;\"/>\n",
    "\n",
    "## Challenge\n",
    "\n",
    "The main challenge in this problem is to correctly formulate the problem using PINNs. In order to achieve that, you will have to complete the following parts successfully:\n",
    "1. Define the correct geometry for the problem\n",
    "2. Set-up the correct boundary conditions and equations\n",
    "3. Create the neural network and solve the problem\n",
    "\n",
    "A successful completion of the problem should result in distribution of flow variables as shown below. Also, you should aim to achieve a relative $L_2$ error of less than 0.2 for all the variables w.r.t the given OpenFOAM solution. \n",
    "\n",
    "<img src=\"challenge_results.png\" alt=\"Drawing\" style=\"width: 650px;\"/>"
   ]
  },
  {
   "cell_type": "markdown",
   "metadata": {},
   "source": [
    "In this template, we will have give you a skeleton code which you will fill in to define and solve the problem.\n",
    "\n",
    "**Note: You need to edit the `chip_2d_template.py` script that is placed in the ../source_code/chip_2d/ directory.**\n",
    "\n",
    "From the top menu, click on File, and Open `chip_2d_template.py` from the current directory at `../source_code/chip_2d` directory. Remember to SAVE your code after changes, before running below cells.\n",
    "\n",
    "\n",
    "Let us start with importing the required packages. Pay attention to the various modules and packages that are being imported, especially the equations, geometry and architectures. "
   ]
  },
  {
   "cell_type": "markdown",
   "metadata": {},
   "source": [
    "```python\n",
    "from sympy import Symbol\n",
    "import numpy as np\n",
    "import tensorflow as tf\n",
    "from simnet.solver import Solver\n",
    "from simnet.dataset import TrainDomain, ValidationDomain\n",
    "from simnet.data import Validation\n",
    "from simnet.sympy_utils.geometry_2d import Rectangle, Line, Channel2D\n",
    "from simnet.sympy_utils.functions import parabola\n",
    "from simnet.csv_utils.csv_rw import csv_to_dict\n",
    "from simnet.PDES.navier_stokes import IntegralContinuity, NavierStokes\n",
    "from simnet.controller import SimNetController\n",
    "from simnet.architecture import FourierNetArch\n",
    "```"
   ]
  },
  {
   "cell_type": "markdown",
   "metadata": {},
   "source": [
    "Now, define the simulation parameters and generate the geometry. You will be using the 2D geometry modules for this example. Please fill in the appropriate values for each geometry. Remember, `Channel2D` and `Rectangle` are defined by its two endpoints. The difference between a channel and rectangle in SimNet is that, the channel geometry does not have bounding curves in the x-direction. This is helpful in getting a signed distance field that it infinite in x-direction. This can be important when the signed distance field is used as a wall distance in some of the turbulence models (Refer *SimNet User Guide Chapter 3* for more details). Hence we will create the inlet and outlet using `Line` geometry (*Please note that this is a 2d line, as opposed to the* `Line1D` *that was used in the diffusion tutorial*)"
   ]
  },
  {
   "cell_type": "markdown",
   "metadata": {},
   "source": [
    "```python\n",
    "# simulation params\n",
    "channel_length = (-2.5, 2.5)\n",
    "channel_width = (-0.5, 0.5)\n",
    "chip_pos = -1.0\n",
    "chip_height = 0.6\n",
    "chip_width = 1.0\n",
    "inlet_vel = 1.5\n",
    "```"
   ]
  },
  {
   "cell_type": "markdown",
   "metadata": {},
   "source": [
    "```python\n",
    "#TODO: Replace x1, y1, x2, y2, and X's with appropriate values\n",
    "\n",
    "# define geometry\n",
    "# define channel\n",
    "channel = Channel2D((x1, y1), (x2, y2))\n",
    "# define inlet and outlet\n",
    "inlet = Line((x1, y1), (x1, y2), normal= X)\n",
    "outlet = Line((x1, y1), (x1, y2), normal= X)\n",
    "# define the chip\n",
    "rec = Rectangle((x1, y1), (x2, y2))\n",
    "# create a geometry for higher sampling of point cloud near the fin\n",
    "flow_rec = Rectangle((chip_pos-0.25, channel_width[0]),\n",
    "                     (chip_pos+chip_width+0.25, channel_width[1]))\n",
    "# fluid area\n",
    "geo = channel - rec\n",
    "geo_hr = geo & flow_rec\n",
    "geo_lr = geo - flow_rec\n",
    "```"
   ]
  },
  {
   "cell_type": "markdown",
   "metadata": {},
   "source": [
    "The current problem is a channel flow with an incompressible fluid. In such cases, the mass flow rate through each cross-section of the channel and in turn the volumetric flow is constant. This can be used as an additional constraint in the problem which we will help us in improving the speed of convergence. \n",
    "\n",
    "Wherever, possible, using such additional knowledge about the problem can help in better and faster solutions. More examples of this can be found in the *SimNet User Guide Chapter 6*.   "
   ]
  },
  {
   "cell_type": "markdown",
   "metadata": {},
   "source": [
    "```python\n",
    "# Optional integral continuity planes to speed up convergence \n",
    "x_pos = Symbol('x_pos')\n",
    "integral_line = Line((x_pos, channel_width[0]),\n",
    "                     (x_pos, channel_width[1]),\n",
    "                     1)\n",
    "x_pos_range = {x_pos: lambda batch_size: np.full((batch_size, 1), np.random.uniform(channel_length[0], channel_length[1]))}\n",
    "```"
   ]
  },
  {
   "cell_type": "markdown",
   "metadata": {},
   "source": [
    "Now you will use the created geometry to define the training data for the problem. Implement the required boundary conditions and equations in the `Chip2DTrain` class below. Remember that you will have to create the training data points both for the boundary condition and to reduce the equation residuals. You can refer to the `NavierStokes` class from the PDEs module to check how the equations are defined and the keys required for each equation. For ease of access, we show the equations below. "
   ]
  },
  {
   "cell_type": "markdown",
   "metadata": {},
   "source": [
    "```python\n",
    "# Equation definitions of the NavierStokes class\n",
    "\n",
    "# Note, this block is only for reference. Do not include this in your final script\n",
    "# These equations are already present in the NavierStokes class definition\n",
    "\n",
    "    # set equations\n",
    "    self.equations = Variables()\n",
    "    self.equations['continuity'] = rho.diff(t) + (rho*u).diff(x) + (rho*v).diff(y) + (rho*w).diff(z)\n",
    "    self.equations['momentum_x'] = ((rho*u).diff(t)\n",
    "                                  + (u*((rho*u).diff(x)) + v*((rho*u).diff(y)) + w*((rho*u).diff(z)) + rho*u*(curl))\n",
    "                                  + p.diff(x)\n",
    "                                  - (-2/3*mu*(curl)).diff(x)\n",
    "                                  - (mu*u.diff(x)).diff(x)\n",
    "                                  - (mu*u.diff(y)).diff(y)\n",
    "                                  - (mu*u.diff(z)).diff(z)\n",
    "                                  - (mu*(curl).diff(x)))\n",
    "    self.equations['momentum_y'] = ((rho*v).diff(t)\n",
    "                                  + (u*((rho*v).diff(x)) + v*((rho*v).diff(y)) + w*((rho*v).diff(z)) + rho*v*(curl))\n",
    "                                  + p.diff(y)\n",
    "                                  - (-2/3*mu*(curl)).diff(y)\n",
    "                                  - (mu*v.diff(x)).diff(x)\n",
    "                                  - (mu*v.diff(y)).diff(y)\n",
    "                                  - (mu*v.diff(z)).diff(z)\n",
    "                                  - (mu*(curl).diff(y)))\n",
    "    self.equations['momentum_z'] = ((rho*w).diff(t)\n",
    "                                  + (u*((rho*w).diff(x)) + v*((rho*w).diff(y)) + w*((rho*w).diff(z)) + rho*w*(curl))\n",
    "                                  + p.diff(z)\n",
    "                                  - (-2/3*mu*(curl)).diff(z)\n",
    "                                  - (mu*w.diff(x)).diff(x)\n",
    "                                  - (mu*w.diff(y)).diff(y)\n",
    "                                  - (mu*w.diff(z)).diff(z)\n",
    "                                  - (mu*(curl).diff(z)))\n",
    "\n",
    "    if self.dim == 2:\n",
    "      self.equations.pop('momentum_z')\n",
    "```"
   ]
  },
  {
   "cell_type": "markdown",
   "metadata": {},
   "source": [
    "Now use this understanding to define the problem. An example of the inlet boundary condition is shown. Also, the integral continuity constraint is already coded up for you. "
   ]
  },
  {
   "cell_type": "markdown",
   "metadata": {},
   "source": [
    "```python\n",
    "#TODO: Replace all the placeholders with appropriate values\n",
    "\n",
    "# define sympy variables to parametrize domain curves\n",
    "x, y = Symbol('x'), Symbol('y')\n",
    "\n",
    "class Chip2DTrain(TrainDomain):\n",
    "  def __init__(self, **config):\n",
    "    super(Chip2DTrain, self).__init__()\n",
    "\n",
    "    # inlet\n",
    "    inlet_parabola = parabola(y, channel_width[0], channel_width[1], inlet_vel)\n",
    "    inlet_bc = inlet.boundary_bc(outvar_sympy={'u': inlet_parabola, 'v': 0},\n",
    "                                 batch_size_per_area=64)\n",
    "    self.add(inlet_bc, name=\"Inlet\")\n",
    "\n",
    "    # outlet\n",
    "    outlet_bc = outlet.boundary_bc(outvar_sympy={placeholder},\n",
    "                                   batch_size_per_area=placeholder)\n",
    "    self.add(outlet_bc, name=\"Outlet\")\n",
    "\n",
    "    # noslip\n",
    "    noslip = geo.boundary_bc(outvar_sympy={placeholder},\n",
    "                             batch_size_per_area=placeholder)\n",
    "    self.add(noslip, name=\"ChipNS\")\n",
    "\n",
    "    # interior lr\n",
    "    interior_lr = geo_lr.interior_bc(outvar_sympy={placeholder},\n",
    "                                     bounds={placeholder},\n",
    "                                     lambda_sympy={placeholder},\n",
    "                                     batch_size_per_area=placeholder)\n",
    "    self.add(interior_lr, name=\"InteriorLR\")\n",
    "\n",
    "    # interior hr\n",
    "    interior_hr = geo_hr.interior_bc(outvar_sympy=placeholder,\n",
    "                                     bounds=placeholder,\n",
    "                                     lambda_sympy=placeholder,\n",
    "                                     batch_size_per_area=placeholder)\n",
    "    self.add(interior_hr, name=\"InteriorHR\")\n",
    "\n",
    "\n",
    "    # integral continuity\n",
    "    for i in range(4):\n",
    "      IC = integral_line.boundary_bc(outvar_sympy={'integral_continuity': 1.0},\n",
    "                                     batch_size_per_area=512,\n",
    "                                     lambda_sympy={'lambda_integral_continuity': 1.0},\n",
    "                                     criteria=geo.sdf>0,\n",
    "                                     param_ranges=x_pos_range,\n",
    "                                     fixed_var=False)\n",
    "      self.add(IC, name=\"IntegralContinuity_\"+str(i))\n",
    "```"
   ]
  },
  {
   "cell_type": "markdown",
   "metadata": {},
   "source": [
    "Now, add validation data to the problem. The examples folder contains a `openfoam` directory that contains the solution of same problem using OpenFOAM solver. The CSV file is read in and converted to a dictionary for you. Now, you will have to complete the definition of `Chip2DVal` class below. "
   ]
  },
  {
   "cell_type": "markdown",
   "metadata": {},
   "source": [
    "```python\n",
    "#TODO: Set the appropriate normalization for the validation data\n",
    "# The validation data has domain extents of (0,0) to (5,1). Normalize this based on your definition of the domain\n",
    "\n",
    "# validation data\n",
    "mapping = {'Points:0': 'x', 'Points:1': 'y',\n",
    "           'U:0': 'u', 'U:1': 'v', 'p': 'p'}\n",
    "openfoam_var = csv_to_dict('openfoam/2D_chip_fluid0.csv', mapping)\n",
    "openfoam_var['x'] -= 2.5 #TODO Samle normalization of position. Edit based on your geometry definition\n",
    "openfoam_var['y'] -= 0.5\n",
    "openfoam_invar_numpy = {key: value for key, value in openfoam_var.items() if key in ['x', 'y']}\n",
    "openfoam_outvar_numpy = {key: value for key, value in openfoam_var.items() if key in ['u', 'v', 'p']}\n",
    "\n",
    "class Chip2DVal(ValidationDomain):\n",
    "  def __init__(self, **config):\n",
    "    super(Chip2DVal, self).__init__()\n",
    "    val = Validation.from_numpy(placeholder)\n",
    "    self.add(val, name='Val')\n",
    "```"
   ]
  },
  {
   "cell_type": "markdown",
   "metadata": {},
   "source": [
    "Now, complete the last part of the code by creating the `ChipSolver` to solve the problem. You will make use of an advanced architecture called the `FourierNetArch` in this problem. This architecture will help to reach the convergence faster. More details about this architecture can be found in *SimNet User Guide Section 1.6.1.1*. The important parameters of the neural network are defined for you. Feel free to tweak them and observe its behavior on the results and speed of convergence. "
   ]
  },
  {
   "cell_type": "markdown",
   "metadata": {},
   "source": [
    "```python\n",
    "#TODO: Replace all the placeholders with appropriate values\n",
    "class ChipSolver(Solver):\n",
    "  train_domain = placeholder\n",
    "  val_domain = placeholder\n",
    "  arch = FourierNetArch\n",
    "\n",
    "  def __init__(self, **config):\n",
    "    super(ChipSolver, self).__init__(**config)\n",
    "\n",
    "    self.frequencies = ('axis,diagonal', [i/5. for i in range(25)]) \n",
    "    \n",
    "    self.equations = (placeholder)\n",
    "    flow_net = self.arch.make_node(name='flow_net',\n",
    "                                   inputs=[placeholder],\n",
    "                                   outputs=[placeholder])\n",
    "    self.nets = [flow_net]\n",
    "\n",
    "  @classmethod\n",
    "  def update_defaults(cls, defaults):\n",
    "    defaults.update({\n",
    "        'network_dir': './network_checkpoint_chip_2d',\n",
    "        'rec_results': True,\n",
    "        'rec_results_freq': 5000,\n",
    "        'max_steps': 10000,\n",
    "        'decay_steps': 100,\n",
    "        'xla': True\n",
    "        })\n",
    "if __name__ == '__main__':\n",
    "  ctr = SimNetController(ChipSolver)\n",
    "  ctr.run()\n",
    "```"
   ]
  },
  {
   "cell_type": "markdown",
   "metadata": {},
   "source": [
    "Once you have completed all the sections of the code, you can export the notebook as a python script and then execute it as we have seen in the earlier tutorials. Record your relative L2 errors with respect to the OpenFOAM solution and try to achieve errors for all the variables lower than 0.2. Also try to visualize your results using contour plots by reading in the `.npz` files created in the network checkpoint. \n",
    "\n"
   ]
  },
  {
   "cell_type": "markdown",
   "metadata": {},
   "source": [
    "# Licensing\n",
    "This material is released by NVIDIA Corporation under the Creative Commons Attribution 4.0 International (CC BY 4.0)"
   ]
  }
 ],
 "metadata": {
  "kernelspec": {
   "display_name": "Python 3",
   "language": "python",
   "name": "python3"
  },
  "language_info": {
   "codemirror_mode": {
    "name": "ipython",
    "version": 3
   },
   "file_extension": ".py",
   "mimetype": "text/x-python",
   "name": "python",
   "nbconvert_exporter": "python",
   "pygments_lexer": "ipython3",
   "version": "3.8.5"
  }
 },
 "nbformat": 4,
 "nbformat_minor": 4
}
