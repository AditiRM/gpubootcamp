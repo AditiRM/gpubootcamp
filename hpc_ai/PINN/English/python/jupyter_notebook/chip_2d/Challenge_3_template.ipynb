{
 "cells": [
  {
   "cell_type": "markdown",
   "metadata": {},
   "source": [
    "## Problem Statement\n",
    "\n",
    "Use PINNs along with the OpenFOAM data to solve the inverse problem of finding the viscosity of the flow, given the flow field data\n",
    "\n",
    "## Challenge\n",
    "\n",
    "The main challenge in this problem is to correctly formulate the problem using PINNs. In order to achieve that, you will have to complete the following parts successfully:\n",
    "1. Assimilate the OpenFOAM data\n",
    "2. Set-up the correct equation residuals to miminize\n",
    "3. Create the neural network and solve the inverse problem\n",
    "\n",
    "The viscosity in the OpenFOAM simulation was set to $0.02 \\text{ }m^2/s$. A successful completion of the problem should result in infering out the same viscosity within 10% error margin. The OpenFOAM data that was used for validation in the previous parts would now be used as a training input. "
   ]
  },
  {
   "cell_type": "markdown",
   "metadata": {},
   "source": [
    "Let us start by importing the required packages and modules\n",
    "\n",
    "**Note: You need to edit the `chip_2d_inverse_template.py` script that is placed in the ../source_code/chip_2d/ directory.**\n",
    "\n",
    "From the top menu, click on File, and Open `chip_2d_inverse_template.py` from the current directory at `../source_code/chip_2d` directory. Remember to SAVE your code after changes, before running below cells."
   ]
  },
  {
   "cell_type": "markdown",
   "metadata": {},
   "source": [
    "```python\n",
    "from sympy import Symbol\n",
    "import numpy as np\n",
    "import tensorflow as tf\n",
    "from modulus.solver import Solver\n",
    "from modulus.dataset import TrainDomain, ValidationDomain, MonitorDomain\n",
    "from modulus.data import Validation, Monitor, BC\n",
    "from modulus.sympy_utils.geometry_2d import Rectangle, Line, Channel2D\n",
    "from modulus.sympy_utils.functions import parabola\n",
    "from modulus.csv_utils.csv_rw import csv_to_dict\n",
    "from modulus.PDES.navier_stokes import IntegralContinuity, NavierStokes\n",
    "from modulus.controller import ModulusController\n",
    "from modulus.architecture import FourierNetArch\n",
    "```"
   ]
  },
  {
   "cell_type": "markdown",
   "metadata": {},
   "source": [
    "For this problem, since we are interested in only assimilating the OpenFOAM data and getting the inference out of it, you do not need create the geometry. Fill in the `Chip2DTrain` based on the data generated from OpenFOAM. Remember to add appropriate keys to the dataset to solve for the correct equations. "
   ]
  },
  {
   "cell_type": "markdown",
   "metadata": {},
   "source": [
    "```python\n",
    "#TODO: Replace all the placeholders with appropriate values\n",
    "\n",
    "# define sympy variables to parametrize domain curves\n",
    "x, y = Symbol('x'), Symbol('y')\n",
    "\n",
    "# OpenFOAM data\n",
    "mapping = {'Points:0': 'x', 'Points:1': 'y',\n",
    "           'U:0': 'u', 'U:1': 'v', 'p': 'p'}\n",
    "openfoam_var = csv_to_dict('openfoam/2D_chip_fluid0.csv', mapping)\n",
    "openfoam_var['x'] -= 2.5 # normalize pos\n",
    "openfoam_var['y'] -= 0.5\n",
    "openfoam_invar_numpy = {key: value for key, value in openfoam_var.items() if key in ['x', 'y']}\n",
    "openfoam_outvar_numpy = {key: value for key, value in openfoam_var.items() if key in ['u', 'v', 'p']}\n",
    "\n",
    "#TODO: Add keys and appropriate values for continuity and momentum equations in x and y directions here:\n",
    "openfoam_outvar_numpy['continuity'] = placeholder\n",
    "openfoam_outvar_numpy['momentum_x'] = placeholder\n",
    "openfoam_outvar_numpy['momentum_y'] = placeholder\n",
    "\n",
    "class Chip2DTrain(TrainDomain):\n",
    "  def __init__(self, **config):\n",
    "    super(Chip2DTrain, self).__init__()\n",
    "    \n",
    "    # fill in the appropriate parameters for the from_numpy function\n",
    "    interior=BC.from_numpy(placeholder, placeholder, batch_size=placeholder)\n",
    "    self.add(interior, name=\"Interior\")\n",
    "```"
   ]
  },
  {
   "cell_type": "markdown",
   "metadata": {},
   "source": [
    "Create a `MonitorDomain` to monitor the average viscosity predicted by the model "
   ]
  },
  {
   "cell_type": "markdown",
   "metadata": {},
   "source": [
    "```python\n",
    "class Chip2DMonitor(MonitorDomain):\n",
    "  def __init__(self, **config):\n",
    "    super(Chip2DMonitor, self).__init__()\n",
    "    \n",
    "    global_monitor = Monitor(openfoam_invar_numpy, {'average_nu': lambda var: tf.reduce_mean(var['nu'])})\n",
    "    self.add(global_monitor, 'GlobalMonitor')\n",
    "```"
   ]
  },
  {
   "cell_type": "markdown",
   "metadata": {},
   "source": [
    "Now complete the last part of the code by creating the `ChipSolver` to solve our problem. Don't forget to stop the gradients for appropriate variables while setting the equations. "
   ]
  },
  {
   "cell_type": "markdown",
   "metadata": {},
   "source": [
    "```python\n",
    "#TODO: Replace all the placeholders with appropriate values\n",
    "class ChipSolver(Solver):\n",
    "  train_domain = placeholder\n",
    "  monitor_domain = placeholder\n",
    "\n",
    "  def __init__(self, **config):\n",
    "    super(ChipSolver, self).__init__(**config)\n",
    "\n",
    "    self.equations = (NavierStokes(nu=placeholder, rho=1, dim=2, time=False).make_node(stop_gradients=[placeholder]))\n",
    "\n",
    "    flow_net = self.arch.make_node(name='flow_net',\n",
    "                                   inputs=['x', 'y'],\n",
    "                                   outputs=['u', 'v', 'p'])\n",
    "    invert_net = self.arch.make_node(name='invert_net',\n",
    "                                     inputs=['x', 'y'],\n",
    "                                     outputs=['nu'])\n",
    "    self.nets = [flow_net, invert_net]\n",
    "\n",
    "  @classmethod\n",
    "  def update_defaults(cls, defaults):\n",
    "    defaults.update({\n",
    "        'network_dir': './network_checkpoint_chip_2d_inverse',\n",
    "        'rec_results': True,\n",
    "        'rec_results_freq': 100,\n",
    "        'start_lr': 3e-4,\n",
    "        'max_steps': 40000,\n",
    "        'decay_steps': 100,\n",
    "        'xla': True\n",
    "        })\n",
    "if __name__ == '__main__':\n",
    "  ctr = ModulusController(ChipSolver)\n",
    "  ctr.run()\n",
    "```\n",
    "\n",
    "\n",
    "# Licensing\n",
    "This material is released by NVIDIA Corporation under the Creative Commons Attribution 4.0 International (CC BY 4.0)"
   ]
  }
 ],
 "metadata": {
  "kernelspec": {
   "display_name": "Python 3",
   "language": "python",
   "name": "python3"
  },
  "language_info": {
   "codemirror_mode": {
    "name": "ipython",
    "version": 3
   },
   "file_extension": ".py",
   "mimetype": "text/x-python",
   "name": "python",
   "nbconvert_exporter": "python",
   "pygments_lexer": "ipython3",
   "version": "3.8.5"
  }
 },
 "nbformat": 4,
 "nbformat_minor": 4
}
