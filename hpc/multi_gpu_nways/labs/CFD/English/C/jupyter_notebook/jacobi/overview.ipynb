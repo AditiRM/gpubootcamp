{
 "cells": [
  {
   "cell_type": "markdown",
   "id": "39ad569e",
   "metadata": {},
   "source": [
    "# Laplace Equation\n",
    "\n",
    "Laplace Equation is a well-studied linear partial differential equation that governs steady state heat conduction, irrotational fluid flow, and many other phenomena. \n",
    "\n",
    "In this lab, we will consider the 2D Laplace Equation on a rectangle with Dirichlet boundary conditions on the left and right boundary and period boundary conditions on top and bottom boundary. We wish to solve the following equation:\n",
    "\n",
    "$\\Delta u(x,y) = 0\\;\\forall\\;(x,y)\\in\\Omega,\\delta\\Omega$\n",
    "\n",
    "# Jacobi Method\n",
    "\n",
    "The Jacobi method is an iterative algorithm to solve a linear system of strictly diagonally dominant equations. The governing equation is discretized and converted to a matrix amenable to Jacobi-method based solver.\n",
    "\n",
    "## The Code\n",
    "\n",
    "Let's understand the single-GPU code first. The source code file is available here: [jacobi.cu](../../source_code/single_gpu/jacobi.cu).\n",
    "\n",
    "Alternatively, you can open the `File` menu and click on the `Open...` option which opens Jupyter's file explorer in a new tab. Then, navigate to `CFD/English/C/source_code/single_gpu/` directory in which you can view the `jacobi.cu` file. \n",
    "\n",
    "Similarly, have look at the [Makefile](../../source_code/single_gpu/Makefile). \n",
    "\n",
    "Refer to the `single_gpu(...)` function. The important steps at iteration of the Jacobi Solver (that is, the `while` loop) are:\n",
    "1. The norm is set to 0.\n",
    "2. The device kernel is called to update the interier points.\n",
    "3. The norm is copied back to the host, and\n",
    "4. The boundary conditions are re-applied for the next iteration.\n",
    "\n",
    "Note that we run the Jacobi solver for 1000 iterations over the grid.\n",
    "\n",
    "## Compilation and Execution\n",
    "\n",
    "Let's compile the single-GPU code:"
   ]
  },
  {
   "cell_type": "code",
   "execution_count": 44,
   "id": "eac2daf7",
   "metadata": {
    "scrolled": true
   },
   "outputs": [
    {
     "name": "stdout",
     "output_type": "stream",
     "text": [
      "rm -f jacobi jacobi.qdrep\r\n",
      "nvcc -DHAVE_CUB -Xcompiler -fopenmp -lineinfo -DUSE_NVTX -lnvToolsExt -gencode arch=compute_70,code=sm_70 -gencode arch=compute_80,code=sm_80 -gencode arch=compute_80,code=compute_80 -std=c++14 jacobi.cu -o jacobi\r\n"
     ]
    }
   ],
   "source": [
    "!cd ../../source_code/single_gpu && make clean && make"
   ]
  },
  {
   "cell_type": "markdown",
   "id": "33345661",
   "metadata": {},
   "source": [
    "Now, let us execute the program: "
   ]
  },
  {
   "cell_type": "code",
   "execution_count": 45,
   "id": "e234f430",
   "metadata": {},
   "outputs": [
    {
     "name": "stdout",
     "output_type": "stream",
     "text": [
      "Single GPU jacobi relaxation: 1000 iterations on 16384 x 16384 mesh with norm check every 1 iterations\n",
      "    0, 31.999022\n",
      "  100, 0.897983\n",
      "  200, 0.535684\n",
      "  300, 0.395651\n",
      "  400, 0.319039\n",
      "  500, 0.269961\n",
      "  600, 0.235509\n",
      "  700, 0.209829\n",
      "  800, 0.189854\n",
      "  900, 0.173818\n",
      "16384x16384: 1 GPU:   3.3650 s\n"
     ]
    }
   ],
   "source": [
    "!cd ../../source_code/single_gpu && ./jacobi"
   ]
  },
  {
   "cell_type": "markdown",
   "id": "14bb863e",
   "metadata": {},
   "source": [
    "The output reports the norm value every 100 iterations and the total execution time of the Jacobi Solver. We would like to decrease the overall execution time of the program. To quantify the performance gain, we denote the single-GPU execution time as $T_s$ and multi-GPU execution time for $P$ GPUs as $T_p$. using this, we obtain the figures-of-merit, speedup $S = T_s/T_p$ (optimal is $P$) and efficiency $E = S/P$ (optimal is $1$). "
   ]
  },
  {
   "cell_type": "code",
   "execution_count": null,
   "id": "b0c6f16a",
   "metadata": {},
   "outputs": [],
   "source": [
    " !cd ../../source_code/mpi && make clean && make"
   ]
  },
  {
   "cell_type": "code",
   "execution_count": null,
   "id": "0979d23b",
   "metadata": {},
   "outputs": [],
   "source": [
    "!cd ../../source_code/mpi && mpirun -np 8 nsys profile --trace=mpi,cuda,nvtx ./jacobi"
   ]
  }
 ],
 "metadata": {
  "kernelspec": {
   "display_name": "Python 3",
   "language": "python",
   "name": "python3"
  },
  "language_info": {
   "codemirror_mode": {
    "name": "ipython",
    "version": 3
   },
   "file_extension": ".py",
   "mimetype": "text/x-python",
   "name": "python",
   "nbconvert_exporter": "python",
   "pygments_lexer": "ipython3",
   "version": "3.8.5"
  }
 },
 "nbformat": 4,
 "nbformat_minor": 5
}
