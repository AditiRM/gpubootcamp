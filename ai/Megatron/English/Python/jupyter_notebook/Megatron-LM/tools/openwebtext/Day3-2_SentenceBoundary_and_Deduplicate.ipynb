{
 "cells": [
  {
   "cell_type": "markdown",
   "id": "virtual-gasoline",
   "metadata": {},
   "source": [
    "# \n",
    "\n",
    "# About data cleaning for own language \n",
    "---\n",
    "\n",
    "## Learning Objectives\n",
    "- **The goal of this lab is to go through some basic data cleansing methods which should be cautiously applied to own langauge dataset  **\n",
    "    - langauge detection and filtering \n",
    "    - finding sentence boundary, and give some examples :\n",
    "    it is importance to be able to find good sentence boundary per given document, see [Megatron-LM/tools/preprocess_data.py](https://github.com/NVIDIA/Megatron-LM/blob/main/tools/preprocess_data.py#L84)\n",
    "        1. [sentence-splitter](https://github.com/mediacloud/sentence-splitter)\n",
    "        2. [NLTK](https://github.com/nltk/nltk)\n",
    "        3. write your own sentence splitter, a home-made example\n",
    "    - deduplicate documents based on similarity score\n",
    "    - (additional advice) discuss filtering on number of sentences per document and number of tokens per sentence \n",
    "        - example for English GPT training, it is recommand to check on the stats of your raw data and come-up with a good rule-of-thumb to proceed filtering, it is,however,recommanded to look into language-specific cleaning and follow up robust clearning procedure to obtain quality corpus.\n",
    "\n",
    "in this notebook, we will embrace the method provided by the [Megatron-LM repo](https://github.com/NVIDIA/Megatron-LM/tree/main/tools/openwebtext) as well as introduce other complimenting methods that might be of interest for data cleaning.\n",
    "\n",
    "---------------\n",
    "### At the end, there's a **mini challenge** for hands-on practice identifying number of duplicates approach groudtruth number!"
   ]
  },
  {
   "cell_type": "markdown",
   "id": "identical-manufacturer",
   "metadata": {},
   "source": [
    "--------------------------------------------------------------------------------------------------------------------\n",
    "#### start by install necessary libraries -\n",
    "\n",
    "    install LSH - \n",
    "\n",
    "    follow instruction from [Megatron-LM/tools/openwebtext/README](https://github.com/NVIDIA/Megatron-LM/tree/main/tools/openwebtext) in openwebtext clearning folder \n",
    "\n",
    "    note : in a restricted environment where sudo is not allowed, please follow the below instruction to modify installation\n",
    "        \n",
    "            git clone https://github.com/mattilyra/LSH\n",
    "            cd LSH\n",
    "            open setup.py in an editor and modify as below\n",
    "   ![modify setup.py line 6](./LSH_modification_setup.JPG)\n",
    "\n",
    "            python setup.py install --user "
   ]
  },
  {
   "cell_type": "code",
   "execution_count": 2,
   "id": "stainless-courtesy",
   "metadata": {},
   "outputs": [
    {
     "name": "stdout",
     "output_type": "stream",
     "text": [
      "Defaulting to user installation because normal site-packages is not writeable\n",
      "Requirement already satisfied: ftfy in /home/zcharpy/.local/lib/python3.8/site-packages (6.0.3)\n",
      "Requirement already satisfied: langdetect in /home/zcharpy/.local/lib/python3.8/site-packages (1.0.9)\n",
      "Requirement already satisfied: numpy in /opt/conda/lib/python3.8/site-packages (1.19.2)\n",
      "Requirement already satisfied: torch in /opt/conda/lib/python3.8/site-packages (1.9.0a0+df837d0)\n",
      "Requirement already satisfied: pandas in /opt/conda/lib/python3.8/site-packages (1.1.4)\n",
      "Requirement already satisfied: nltk in /opt/conda/lib/python3.8/site-packages (3.5)\n",
      "Requirement already satisfied: sentencepiece in /opt/conda/lib/python3.8/site-packages (0.1.95)\n",
      "Requirement already satisfied: boto3 in /opt/conda/lib/python3.8/site-packages (1.17.32)\n",
      "Requirement already satisfied: tqdm in /opt/conda/lib/python3.8/site-packages (4.53.0)\n",
      "Requirement already satisfied: regex in /opt/conda/lib/python3.8/site-packages (2021.3.17)\n",
      "Requirement already satisfied: bs4 in /home/zcharpy/.local/lib/python3.8/site-packages (0.0.1)\n",
      "Requirement already satisfied: htmlmin in /home/zcharpy/.local/lib/python3.8/site-packages (0.1.12)\n",
      "Requirement already satisfied: tldextract in /home/zcharpy/.local/lib/python3.8/site-packages (3.1.0)\n",
      "Requirement already satisfied: nnsplit in /home/zcharpy/.local/lib/python3.8/site-packages (0.5.8.post0)\n",
      "Requirement already satisfied: sentence-splitter in /home/zcharpy/.local/lib/python3.8/site-packages (1.4)\n",
      "Requirement already satisfied: wcwidth in /opt/conda/lib/python3.8/site-packages (from ftfy) (0.2.5)\n",
      "Requirement already satisfied: six in /opt/conda/lib/python3.8/site-packages (from langdetect) (1.15.0)\n",
      "Requirement already satisfied: typing-extensions in /opt/conda/lib/python3.8/site-packages (from torch) (3.7.4.3)\n",
      "Requirement already satisfied: python-dateutil>=2.7.3 in /opt/conda/lib/python3.8/site-packages (from pandas) (2.8.1)\n",
      "Requirement already satisfied: pytz>=2017.2 in /opt/conda/lib/python3.8/site-packages (from pandas) (2021.1)\n",
      "Requirement already satisfied: click in /opt/conda/lib/python3.8/site-packages (from nltk) (7.1.2)\n",
      "Requirement already satisfied: joblib in /opt/conda/lib/python3.8/site-packages (from nltk) (1.0.1)\n",
      "Requirement already satisfied: jmespath<1.0.0,>=0.7.1 in /opt/conda/lib/python3.8/site-packages (from boto3) (0.10.0)\n",
      "Requirement already satisfied: s3transfer<0.4.0,>=0.3.0 in /opt/conda/lib/python3.8/site-packages (from boto3) (0.3.6)\n",
      "Requirement already satisfied: botocore<1.21.0,>=1.20.32 in /opt/conda/lib/python3.8/site-packages (from boto3) (1.20.32)\n",
      "Requirement already satisfied: beautifulsoup4 in /opt/conda/lib/python3.8/site-packages (from bs4) (4.9.3)\n",
      "Requirement already satisfied: filelock>=3.0.8 in /opt/conda/lib/python3.8/site-packages (from tldextract) (3.0.12)\n",
      "Requirement already satisfied: idna in /opt/conda/lib/python3.8/site-packages (from tldextract) (2.10)\n",
      "Requirement already satisfied: requests>=2.1.0 in /opt/conda/lib/python3.8/site-packages (from tldextract) (2.24.0)\n",
      "Requirement already satisfied: requests-file>=1.4 in /home/zcharpy/.local/lib/python3.8/site-packages (from tldextract) (1.5.1)\n",
      "Requirement already satisfied: onnxruntime==1.7 in /opt/conda/lib/python3.8/site-packages (from nnsplit) (1.7.0)\n",
      "Requirement already satisfied: urllib3<1.27,>=1.25.4 in /opt/conda/lib/python3.8/site-packages (from botocore<1.21.0,>=1.20.32->boto3) (1.25.11)\n",
      "Requirement already satisfied: soupsieve>1.2; python_version >= \"3.0\" in /opt/conda/lib/python3.8/site-packages (from beautifulsoup4->bs4) (2.2)\n",
      "Requirement already satisfied: certifi>=2017.4.17 in /opt/conda/lib/python3.8/site-packages (from requests>=2.1.0->tldextract) (2020.12.5)\n",
      "Requirement already satisfied: chardet<4,>=3.0.2 in /opt/conda/lib/python3.8/site-packages (from requests>=2.1.0->tldextract) (3.0.4)\n",
      "Requirement already satisfied: protobuf in /opt/conda/lib/python3.8/site-packages (from onnxruntime==1.7->nnsplit) (3.15.6)\n"
     ]
    }
   ],
   "source": [
    "!pip install ftfy langdetect numpy torch pandas nltk sentencepiece boto3 tqdm regex bs4 htmlmin tldextract sentence-splitter"
   ]
  },
  {
   "cell_type": "markdown",
   "id": "returning-internship",
   "metadata": {},
   "source": [
    "-------------------------------------------------------------------------------\n",
    "## detect and filter undesired langauge in the raw text corpus"
   ]
  },
  {
   "cell_type": "code",
   "execution_count": 3,
   "id": "brown-satisfaction",
   "metadata": {},
   "outputs": [
    {
     "data": {
      "text/plain": [
       "'sv'"
      ]
     },
     "execution_count": 3,
     "metadata": {},
     "output_type": "execute_result"
    }
   ],
   "source": [
    "from langdetect import detect\n",
    "swe_raw_text='Under fredagsförmiddagen höll polis och räddningstjänst presskonferens tillsammans med en representanter från flygplatsens egna räddningsenhet och Örebro kommun.'\n",
    "detect(swe_raw_text)"
   ]
  },
  {
   "cell_type": "code",
   "execution_count": 4,
   "id": "induced-aquatic",
   "metadata": {},
   "outputs": [
    {
     "data": {
      "text/plain": [
       "'da'"
      ]
     },
     "execution_count": 4,
     "metadata": {},
     "output_type": "execute_result"
    }
   ],
   "source": [
    "danish_text='1. januar 2021 var folketallet 5.840.045. Ved den første folketælling i 1735 var der 718.000 danskere.'\n",
    "detect(danish_text)"
   ]
  },
  {
   "cell_type": "code",
   "execution_count": 5,
   "id": "overhead-panama",
   "metadata": {},
   "outputs": [
    {
     "data": {
      "text/plain": [
       "'fi'"
      ]
     },
     "execution_count": 5,
     "metadata": {},
     "output_type": "execute_result"
    }
   ],
   "source": [
    "finnish_text='Jokaisella on oikeus vapaasti osallistua yhteiskunnan sivistyselämään, nauttia taiteista sekä päästä osalliseksi tieteen edistyksen mukanaan tuomista eduista.'\n",
    "detect(finnish_text)"
   ]
  },
  {
   "cell_type": "markdown",
   "id": "undefined-fifteen",
   "metadata": {},
   "source": [
    "-----------------------------------------------------------\n",
    "## finding sentence boundary - NLTK"
   ]
  },
  {
   "cell_type": "code",
   "execution_count": 6,
   "id": "precise-melissa",
   "metadata": {},
   "outputs": [
    {
     "name": "stderr",
     "output_type": "stream",
     "text": [
      "[nltk_data] Downloading package punkt to /home/zcharpy/nltk_data...\n",
      "[nltk_data]   Package punkt is already up-to-date!\n"
     ]
    },
    {
     "data": {
      "text/plain": [
       "True"
      ]
     },
     "execution_count": 6,
     "metadata": {},
     "output_type": "execute_result"
    }
   ],
   "source": [
    "import nltk\n",
    "nltk.download('punkt')"
   ]
  },
  {
   "cell_type": "code",
   "execution_count": 1,
   "id": "unauthorized-azerbaijan",
   "metadata": {},
   "outputs": [
    {
     "name": "stdout",
     "output_type": "stream",
     "text": [
      "original doc is :\n",
      "  På sommarhalvåret längst vattnet och i skogarna på Lidingö eller på Djurgården – på vintern blir det löpbandet på gymmet .Händelsen skapade mycket oro inom klubben , eftersom skridskoåkning äger rum på sjöar och vattendrag där det givetvis inte finns någon gatuadress att uppge vid olycka .\n",
      "------- sentence 0 -------\n",
      "På sommarhalvåret längst vattnet och i skogarna på Lidingö eller på Djurgården – på vintern blir det löpbandet på gymmet .Händelsen skapade mycket oro inom klubben , eftersom skridskoåkning äger rum på sjöar och vattendrag där det givetvis inte finns någon gatuadress att uppge vid olycka .\n"
     ]
    }
   ],
   "source": [
    "import nltk\n",
    "from nltk.tokenize import sent_tokenize\n",
    "text='På sommarhalvåret längst vattnet och i skogarna på Lidingö eller på Djurgården – på vintern blir det löpbandet på gymmet .Händelsen skapade mycket oro inom klubben , eftersom skridskoåkning äger rum på sjöar och vattendrag där det givetvis inte finns någon gatuadress att uppge vid olycka .'\n",
    "print(\"original doc is :\\n \", text)\n",
    "sents=sent_tokenize(text)\n",
    "i=0\n",
    "for sent in sents:\n",
    "    print(\"------- sentence {} -------\".format(str(i)))    \n",
    "    print(sent)\n",
    "    i+=1"
   ]
  },
  {
   "cell_type": "markdown",
   "id": "integrated-observer",
   "metadata": {},
   "source": [
    "-----------------------------------------------------------\n",
    "## finding sentence boundary - Sentence-Splitter"
   ]
  },
  {
   "cell_type": "code",
   "execution_count": 2,
   "id": "interested-companion",
   "metadata": {},
   "outputs": [
    {
     "name": "stdout",
     "output_type": "stream",
     "text": [
      "------- sentence 0 -------\n",
      "På sommarhalvåret längst vattnet och i skogarna på Lidingö eller på Djurgården – på vintern blir det löpbandet på gymmet .Händelsen skapade mycket oro inom klubben , eftersom skridskoåkning äger rum på sjöar och vattendrag där det givetvis inte finns någon gatuadress att uppge vid olycka .\n"
     ]
    }
   ],
   "source": [
    "from sentence_splitter import SentenceSplitter, split_text_into_sentences\n",
    "splitter = SentenceSplitter(language='sv', non_breaking_prefix_file='custom_english_non_breaking_prefixes.txt')\n",
    "sents=splitter.split(text=text)\n",
    "i=0\n",
    "for sent in sents:\n",
    "    print(\"------- sentence {} -------\".format(str(i)))  \n",
    "    print(sent)\n",
    "    i+=1"
   ]
  },
  {
   "cell_type": "markdown",
   "id": "accompanied-tanzania",
   "metadata": {},
   "source": [
    "-----------------------------------------------------------\n",
    "## finding sentence boundary - create your own sentence splitter"
   ]
  },
  {
   "cell_type": "code",
   "execution_count": 9,
   "id": "pregnant-defensive",
   "metadata": {},
   "outputs": [],
   "source": [
    "import re\n",
    "import nltk\n",
    "from nltk.tokenize import sent_tokenize\n",
    "def normal_cut_sentence(temp):\n",
    "    return sent_tokenize(temp)\n",
    "\n",
    "def cut_sentence_with_quotation_marks(text):\n",
    "    p = re.compile(\"“.*?”\")\n",
    "    list = []\n",
    "    index = 0\n",
    "    length = len(text)\n",
    "    for i in p.finditer(text):\n",
    "        temp = ''\n",
    "        start = i.start()\n",
    "        end = i.end()\n",
    "        for j in range(index, start):\n",
    "            temp += text[j]\n",
    "        if temp != '':\n",
    "            temp_list = normal_cut_sentence(temp)\n",
    "            list += temp_list\n",
    "        temp = ''\n",
    "        for k in range(start, end):\n",
    "            temp += text[k]\n",
    "        if temp != ' ':\n",
    "            list.append(temp)\n",
    "        index = end\n",
    "    return list"
   ]
  },
  {
   "cell_type": "code",
   "execution_count": 10,
   "id": "fleet-above",
   "metadata": {},
   "outputs": [
    {
     "name": "stdout",
     "output_type": "stream",
     "text": [
      "------- sentence 3 -------\n",
      "Andersson pekas ut som nästa partiledare:\n",
      "------- sentence 4 -------\n",
      "“Medlemmarna ska säga sitt”\n"
     ]
    }
   ],
   "source": [
    "sample_doc='Andersson pekas ut som nästa partiledare: “Medlemmarna ska säga sitt”'\n",
    "sents=cut_sentence_with_quotation_marks(sample_doc)\n",
    "for sent in sents:\n",
    "    print(\"------- sentence {} -------\".format(str(i)))  \n",
    "    print(sent)\n",
    "    i+=1"
   ]
  },
  {
   "cell_type": "markdown",
   "id": "filled-silence",
   "metadata": {},
   "source": [
    "-----------------------------------------------------------\n",
    "## deduplicate text based on similarity score  "
   ]
  },
  {
   "cell_type": "code",
   "execution_count": 1,
   "id": "radical-facing",
   "metadata": {},
   "outputs": [],
   "source": [
    "import itertools\n",
    "from lsh import cache, minhash # https://github.com/mattilyra/lsh\n",
    "\n",
    "# a pure python shingling function that will be used in comparing\n",
    "# LSH to true Jaccard similarities\n",
    "def shingles(text, char_ngram=5):\n",
    "    return set(text[head:head + char_ngram] for head in range(0, len(text) - char_ngram))\n",
    "\n",
    "\n",
    "def jaccard(set_a, set_b):\n",
    "    intersection = set_a & set_b\n",
    "    union = set_a | set_b\n",
    "    return len(intersection) / len(union)\n",
    "\n",
    "\n",
    "def candidate_duplicates(document_feed, char_ngram=5, seeds=100, bands=5, hashbytes=4):\n",
    "    char_ngram = 5\n",
    "    sims = []\n",
    "    hasher = minhash.MinHasher(seeds=seeds, char_ngram=char_ngram, hashbytes=hashbytes)\n",
    "    if seeds % bands != 0:\n",
    "        raise ValueError('Seeds has to be a multiple of bands. {} % {} != 0'.format(seeds, bands))\n",
    "    \n",
    "    lshcache = cache.Cache(num_bands=bands, hasher=hasher)\n",
    "    for i_line, line in enumerate(document_feed):\n",
    "        line = line.decode('utf8')\n",
    "        docid, headline_text = line.split('\\t', 1)\n",
    "        fingerprint = hasher.fingerprint(headline_text.encode('utf8'))\n",
    "        \n",
    "        # in addition to storing the fingerpring store the line\n",
    "        # number and document ID to help analysis later on\n",
    "        lshcache.add_fingerprint(fingerprint, doc_id=(i_line, docid))\n",
    "\n",
    "    candidate_pairs = set()\n",
    "    for b in lshcache.bins:\n",
    "        for bucket_id in b:\n",
    "            if len(b[bucket_id]) > 1:\n",
    "                pairs_ = set(itertools.combinations(b[bucket_id], r=2))\n",
    "                candidate_pairs.update(pairs_)\n",
    "    \n",
    "    return candidate_pairs"
   ]
  },
  {
   "cell_type": "code",
   "execution_count": 2,
   "id": "african-savannah",
   "metadata": {},
   "outputs": [],
   "source": [
    "# given two documents \n",
    "doc1='I det här fallet fungerar kursen som en hjälp till elever.'\n",
    "shingles_1 = [doc1[i:i+5] for i in range(len(doc1))][:-5]\n",
    "doc2='På det sättet fungerar kursen som en hjälp till elever.'\n",
    "shingles_2 = [doc2[i:i+5] for i in range(len(doc2))][:-5]"
   ]
  },
  {
   "cell_type": "code",
   "execution_count": 3,
   "id": "standard-auditor",
   "metadata": {},
   "outputs": [
    {
     "name": "stdout",
     "output_type": "stream",
     "text": [
      "0.58\n",
      "0.6\n",
      "0.68\n",
      "0.56\n",
      "0.71\n"
     ]
    }
   ],
   "source": [
    "from lsh import minhash\n",
    "for _ in range(5):\n",
    "    hasher = minhash.MinHasher(seeds=100, char_ngram=5)\n",
    "    fingerprint0 = hasher.fingerprint(doc1.encode('utf8'))\n",
    "    fingerprint1 = hasher.fingerprint(doc2.encode('utf8'))\n",
    "    print(sum(fingerprint0[i] in fingerprint1 for i in range(hasher.num_seeds)) / hasher.num_seeds)"
   ]
  },
  {
   "cell_type": "markdown",
   "id": "found-shuttle",
   "metadata": {},
   "source": [
    "## dataset extracted from NVIDIA blog urls "
   ]
  },
  {
   "cell_type": "code",
   "execution_count": 2,
   "id": "regulated-dating",
   "metadata": {},
   "outputs": [
    {
     "data": {
      "text/html": [
       "<div>\n",
       "<style scoped>\n",
       "    .dataframe tbody tr th:only-of-type {\n",
       "        vertical-align: middle;\n",
       "    }\n",
       "\n",
       "    .dataframe tbody tr th {\n",
       "        vertical-align: top;\n",
       "    }\n",
       "\n",
       "    .dataframe thead th {\n",
       "        text-align: right;\n",
       "    }\n",
       "</style>\n",
       "<table border=\"1\" class=\"dataframe\">\n",
       "  <thead>\n",
       "    <tr style=\"text-align: right;\">\n",
       "      <th></th>\n",
       "      <th>doc1</th>\n",
       "    </tr>\n",
       "  </thead>\n",
       "  <tbody>\n",
       "    <tr>\n",
       "      <th>0</th>\n",
       "      <td>Today, NVIDIA announced new pretrained models ...</td>\n",
       "    </tr>\n",
       "    <tr>\n",
       "      <th>1</th>\n",
       "      <td>This post was updated July 20, 2021 to reflect...</td>\n",
       "    </tr>\n",
       "    <tr>\n",
       "      <th>2</th>\n",
       "      <td>In part 1 of this series, we introduced new AP...</td>\n",
       "    </tr>\n",
       "    <tr>\n",
       "      <th>3</th>\n",
       "      <td>The NVIDIA NGC team is hosting a webinar with ...</td>\n",
       "    </tr>\n",
       "    <tr>\n",
       "      <th>4</th>\n",
       "      <td>NVIDIA announces our newest release of the CUD...</td>\n",
       "    </tr>\n",
       "  </tbody>\n",
       "</table>\n",
       "</div>"
      ],
      "text/plain": [
       "                                                doc1\n",
       "0  Today, NVIDIA announced new pretrained models ...\n",
       "1  This post was updated July 20, 2021 to reflect...\n",
       "2  In part 1 of this series, we introduced new AP...\n",
       "3  The NVIDIA NGC team is hosting a webinar with ...\n",
       "4  NVIDIA announces our newest release of the CUD..."
      ]
     },
     "execution_count": 2,
     "metadata": {},
     "output_type": "execute_result"
    }
   ],
   "source": [
    "import pandas as pd\n",
    "cols=['doc1']\n",
    "df=pd.read_csv('../../../../dataset/EN/extractedNVblogs.txt',sep='\\n', names=cols ,skiprows=1)\n",
    "df.head()"
   ]
  },
  {
   "cell_type": "markdown",
   "id": "sapphire-respect",
   "metadata": {},
   "source": [
    "## create our own groudtruth dataset"
   ]
  },
  {
   "cell_type": "code",
   "execution_count": 43,
   "id": "indie-citation",
   "metadata": {},
   "outputs": [],
   "source": [
    "import numpy as np\n",
    "\n",
    "def create_duplicates(df):\n",
    "    doc2=[]\n",
    "    duplicate=[]\n",
    "    n=len(df)\n",
    "    for i in range(n):\n",
    "        other_population=[k for k in range(n) if k!=i]\n",
    "        \n",
    "        other_idx=np.random.choice(other_population)\n",
    "        current_idx=np.random.choice([i,other_idx], p=[0.25,0.75])\n",
    "        if current_idx==i:            \n",
    "            duplicate.append(True)\n",
    "        else:\n",
    "            duplicate.append(False)\n",
    "        doc2.append(df.iloc[current_idx,0])\n",
    "    df['index']=df.index\n",
    "    df['doc2']=doc2\n",
    "    df['duplicate']=duplicate\n",
    "    cols=['index','doc1','doc2','duplicate']\n",
    "    df=df[cols]\n",
    "    return df "
   ]
  },
  {
   "cell_type": "code",
   "execution_count": 49,
   "id": "earlier-rogers",
   "metadata": {},
   "outputs": [
    {
     "data": {
      "text/html": [
       "<div>\n",
       "<style scoped>\n",
       "    .dataframe tbody tr th:only-of-type {\n",
       "        vertical-align: middle;\n",
       "    }\n",
       "\n",
       "    .dataframe tbody tr th {\n",
       "        vertical-align: top;\n",
       "    }\n",
       "\n",
       "    .dataframe thead th {\n",
       "        text-align: right;\n",
       "    }\n",
       "</style>\n",
       "<table border=\"1\" class=\"dataframe\">\n",
       "  <thead>\n",
       "    <tr style=\"text-align: right;\">\n",
       "      <th></th>\n",
       "      <th>index</th>\n",
       "      <th>doc1</th>\n",
       "      <th>doc2</th>\n",
       "      <th>duplicate</th>\n",
       "    </tr>\n",
       "  </thead>\n",
       "  <tbody>\n",
       "    <tr>\n",
       "      <th>68</th>\n",
       "      <td>68</td>\n",
       "      <td>Despite substantial progress in natural langua...</td>\n",
       "      <td>NVIDIA and Mozilla are proud to announce the l...</td>\n",
       "      <td>False</td>\n",
       "    </tr>\n",
       "    <tr>\n",
       "      <th>69</th>\n",
       "      <td>69</td>\n",
       "      <td>Engineers, product developers and designers ar...</td>\n",
       "      <td>Engineers, product developers and designers ar...</td>\n",
       "      <td>True</td>\n",
       "    </tr>\n",
       "    <tr>\n",
       "      <th>70</th>\n",
       "      <td>70</td>\n",
       "      <td>NVIDIA NeMo is a conversational AI toolkit bui...</td>\n",
       "      <td>Today, in partnership with NVIDIA, Google Clou...</td>\n",
       "      <td>False</td>\n",
       "    </tr>\n",
       "    <tr>\n",
       "      <th>71</th>\n",
       "      <td>71</td>\n",
       "      <td>In NVIDIA Clara Train 4.0, we added homomorphi...</td>\n",
       "      <td>In NVIDIA Clara Train 4.0, we added homomorphi...</td>\n",
       "      <td>True</td>\n",
       "    </tr>\n",
       "    <tr>\n",
       "      <th>72</th>\n",
       "      <td>72</td>\n",
       "      <td>Targeting areas populated with disease-carryin...</td>\n",
       "      <td>Targeting areas populated with disease-carryin...</td>\n",
       "      <td>True</td>\n",
       "    </tr>\n",
       "  </tbody>\n",
       "</table>\n",
       "</div>"
      ],
      "text/plain": [
       "    index                                               doc1  \\\n",
       "68     68  Despite substantial progress in natural langua...   \n",
       "69     69  Engineers, product developers and designers ar...   \n",
       "70     70  NVIDIA NeMo is a conversational AI toolkit bui...   \n",
       "71     71  In NVIDIA Clara Train 4.0, we added homomorphi...   \n",
       "72     72  Targeting areas populated with disease-carryin...   \n",
       "\n",
       "                                                 doc2  duplicate  \n",
       "68  NVIDIA and Mozilla are proud to announce the l...      False  \n",
       "69  Engineers, product developers and designers ar...       True  \n",
       "70  Today, in partnership with NVIDIA, Google Clou...      False  \n",
       "71  In NVIDIA Clara Train 4.0, we added homomorphi...       True  \n",
       "72  Targeting areas populated with disease-carryin...       True  "
      ]
     },
     "execution_count": 49,
     "metadata": {},
     "output_type": "execute_result"
    }
   ],
   "source": [
    "df2=create_duplicates(df)\n",
    "df2.tail()"
   ]
  },
  {
   "cell_type": "code",
   "execution_count": 45,
   "id": "healthy-bullet",
   "metadata": {},
   "outputs": [
    {
     "data": {
      "text/html": [
       "<div>\n",
       "<style scoped>\n",
       "    .dataframe tbody tr th:only-of-type {\n",
       "        vertical-align: middle;\n",
       "    }\n",
       "\n",
       "    .dataframe tbody tr th {\n",
       "        vertical-align: top;\n",
       "    }\n",
       "\n",
       "    .dataframe thead th {\n",
       "        text-align: right;\n",
       "    }\n",
       "</style>\n",
       "<table border=\"1\" class=\"dataframe\">\n",
       "  <thead>\n",
       "    <tr style=\"text-align: right;\">\n",
       "      <th></th>\n",
       "      <th>index</th>\n",
       "      <th>doc1</th>\n",
       "      <th>doc2</th>\n",
       "    </tr>\n",
       "  </thead>\n",
       "  <tbody>\n",
       "    <tr>\n",
       "      <th>0</th>\n",
       "      <td>0</td>\n",
       "      <td>Today, NVIDIA announced new pretrained models ...</td>\n",
       "      <td>The NVIDIA NGC catalog is a hub of GPU-optimiz...</td>\n",
       "    </tr>\n",
       "    <tr>\n",
       "      <th>1</th>\n",
       "      <td>1</td>\n",
       "      <td>This post was updated July 20, 2021 to reflect...</td>\n",
       "      <td>AI can help banking firms better detect and pr...</td>\n",
       "    </tr>\n",
       "    <tr>\n",
       "      <th>2</th>\n",
       "      <td>2</td>\n",
       "      <td>In part 1 of this series, we introduced new AP...</td>\n",
       "      <td>The new Isaac simulation engine not only creat...</td>\n",
       "    </tr>\n",
       "    <tr>\n",
       "      <th>3</th>\n",
       "      <td>3</td>\n",
       "      <td>The NVIDIA NGC team is hosting a webinar with ...</td>\n",
       "      <td>With up to 93% accuracy, and a median rate of ...</td>\n",
       "    </tr>\n",
       "    <tr>\n",
       "      <th>4</th>\n",
       "      <td>4</td>\n",
       "      <td>NVIDIA announces our newest release of the CUD...</td>\n",
       "      <td>In part 1 of this series, we introduced new AP...</td>\n",
       "    </tr>\n",
       "  </tbody>\n",
       "</table>\n",
       "</div>"
      ],
      "text/plain": [
       "   index                                               doc1  \\\n",
       "0      0  Today, NVIDIA announced new pretrained models ...   \n",
       "1      1  This post was updated July 20, 2021 to reflect...   \n",
       "2      2  In part 1 of this series, we introduced new AP...   \n",
       "3      3  The NVIDIA NGC team is hosting a webinar with ...   \n",
       "4      4  NVIDIA announces our newest release of the CUD...   \n",
       "\n",
       "                                                doc2  \n",
       "0  The NVIDIA NGC catalog is a hub of GPU-optimiz...  \n",
       "1  AI can help banking firms better detect and pr...  \n",
       "2  The new Isaac simulation engine not only creat...  \n",
       "3  With up to 93% accuracy, and a median rate of ...  \n",
       "4  In part 1 of this series, we introduced new AP...  "
      ]
     },
     "execution_count": 45,
     "metadata": {},
     "output_type": "execute_result"
    }
   ],
   "source": [
    "del df\n",
    "keep_cols_to_write=['index','doc1','doc2']\n",
    "df3=df2[keep_cols_to_write]\n",
    "df3.head()"
   ]
  },
  {
   "cell_type": "code",
   "execution_count": 50,
   "id": "direct-manchester",
   "metadata": {},
   "outputs": [],
   "source": [
    "df3.to_csv('groundtruth.txt', sep='\\t', index=False,header=False)"
   ]
  },
  {
   "cell_type": "markdown",
   "id": "continental-anthony",
   "metadata": {},
   "source": [
    "---\n",
    "## Re-run the below cell for experiments\n",
    "<a id=\"Rerun_Cell\"></a>"
   ]
  },
  {
   "cell_type": "code",
   "execution_count": 133,
   "id": "superior-victim",
   "metadata": {},
   "outputs": [
    {
     "name": "stdout",
     "output_type": "stream",
     "text": [
      "pair of similar sentences with jaccard_sim score:0.9421284308648369 and minhash_sim score:0.941747572815534 --- \n",
      "\n",
      "100% duplicates \n",
      "\n",
      "text_a: ['Deep', 'learning', 'is', 'revolutionizing', 'the']\n",
      "text_b: ['Deep', 'learning', 'is', 'revolutionizing', 'the']\n",
      "--------------------------------------------------\n",
      "pair of similar sentences with jaccard_sim score:0.8948598130841121 and minhash_sim score:0.8018018018018018 --- \n",
      "\n",
      "100% duplicates \n",
      "\n",
      "text_a: ['Deep', 'learning', 'is', 'revolutionizing', 'the']\n",
      "text_b: ['Deep', 'learning', 'is', 'revolutionizing', 'the']\n",
      "--------------------------------------------------\n",
      "\n",
      "There are **2** candidate duplicates in total\n",
      "\n"
     ]
    },
    {
     "data": {
      "text/plain": [
       "[('64', '43', 0.9421284308648369, 0.941747572815534)]"
      ]
     },
     "execution_count": 133,
     "metadata": {},
     "output_type": "execute_result"
    }
   ],
   "source": [
    "## this is the Re Run Cell \n",
    "import itertools\n",
    "import random\n",
    "lines = []\n",
    "with open('groundtruth.txt', 'rb') as fh:\n",
    "    # read the first 1000 lines into memory so we can compare them\n",
    "    for line in itertools.islice(fh, 1000):\n",
    "        lines.append(line.decode('utf8'))\n",
    "    \n",
    "    # reset file pointer and do LSH\n",
    "    fh.seek(0)\n",
    "    feed = itertools.islice(fh, 1000)\n",
    "    \"\"\"\n",
    "    ## modify the below numbers as input to function candidate_duplicates()\n",
    "    char_ngram= < input_value >\n",
    "    seeds=< input_value >\n",
    "    bands=< input_value >\n",
    "    hashbytes=< input_value >\n",
    "    \"\"\"\n",
    "    # initial value given below\n",
    "    char_ngram=13\n",
    "    seeds=100\n",
    "    bands=5\n",
    "    hashbytes=8\n",
    "    \n",
    "    candidates = candidate_duplicates(feed, char_ngram=char_ngram, seeds=seeds, bands=bands, hashbytes=hashbytes)\n",
    "\n",
    "# go over all the generated candidates comparing their similarities\n",
    "similarities = []\n",
    "for ((line_a, docid_a), (line_b, docid_b)) in candidates:\n",
    "    doc_a, doc_b = lines[line_a], lines[line_b]\n",
    "    shingles_a = shingles(lines[line_a])\n",
    "    shingles_b = shingles(lines[line_b])\n",
    "    \n",
    "    jaccard_sim = jaccard(shingles_a, shingles_b)\n",
    "    fingerprint_a = set(hasher.fingerprint(doc_a.encode('utf8')))\n",
    "    fingerprint_b = set(hasher.fingerprint(doc_b.encode('utf8')))\n",
    "    minhash_sim = len(fingerprint_a & fingerprint_b) / len(fingerprint_a | fingerprint_b)\n",
    "    similarities.append((docid_a, docid_b, jaccard_sim, minhash_sim))\n",
    "\n",
    "for a,b,jsim, msim in random.sample(similarities, k=2 ):\n",
    "    print(\"pair of similar sentences with jaccard_sim score:{} and minhash_sim score:{} --- \\n\".format(str(jsim),str(msim)))\n",
    "    a=int(a)\n",
    "    b=int(b)\n",
    "    text_a=df2.iloc[a,1]\n",
    "    text_b=df2.iloc[b,2]\n",
    "    if text_a==text_b:\n",
    "        print(\"100% duplicates \\n\")\n",
    "    print(\"text_a:\", text_a.split(' ')[:5])\n",
    "    print(\"text_b:\", text_b.split(' ')[:5])\n",
    "    print('-----'*10)\n",
    "    import random\n",
    "\n",
    "print('\\nThere are **{}** candidate duplicates in total\\n'.format(len(candidates)))\n",
    "random.sample(similarities, k=1)"
   ]
  },
  {
   "cell_type": "markdown",
   "id": "rotary-gentleman",
   "metadata": {},
   "source": [
    "---\n",
    "## WOW that is way too LOW !!! Let's take a look at groundtruth, we should have 24 duplicates"
   ]
  },
  {
   "cell_type": "code",
   "execution_count": 102,
   "id": "marked-latino",
   "metadata": {},
   "outputs": [
    {
     "data": {
      "text/plain": [
       "False    49\n",
       "True     24\n",
       "Name: duplicate, dtype: int64"
      ]
     },
     "execution_count": 102,
     "metadata": {},
     "output_type": "execute_result"
    }
   ],
   "source": [
    "## this is our groundtruth, count duplicate == True is 24 \n",
    "df2.duplicate.value_counts()"
   ]
  },
  {
   "cell_type": "markdown",
   "id": "analyzed-carol",
   "metadata": {},
   "source": [
    "<a id=\"TheChallenge\"></a>"
   ]
  },
  {
   "cell_type": "markdown",
   "id": "pretty-plumbing",
   "metadata": {},
   "source": [
    "---\n",
    "# Mini Challenge - approaching the groundtruth !\n",
    "\n",
    "Task : Aiming to approach the number 24 modifying the below parameters\n",
    "rerun cell <a href=\"./Day3-1_SentenceBoundary_and_Deduplicate.ipynb#Rerun_Cell\">Jump to ReRun Cell</a>\n",
    "\n",
    "Consider yourself pass this mini challenge when you reach the number **22** ! \n",
    "\n",
    "\n",
    "experiment on the below parameters and achieve as close as possilbe the deplicated documents in groundtruth ( which is 24 in our case ) \n",
    "\n",
    "            char_ngram= < input_value >\n",
    "            seeds=< input_value >\n",
    "            bands=< input_value >\n",
    "            hashbytes=< input_value >\n",
    "\n",
    "when you are ready, click on the below . . . to look for clues and best trial\n"
   ]
  },
  {
   "cell_type": "code",
   "execution_count": 108,
   "id": "excessive-illness",
   "metadata": {
    "jupyter": {
     "source_hidden": true
    }
   },
   "outputs": [],
   "source": [
    "# best try params listed as below\n",
    "char_ngram=5\n",
    "seeds=100\n",
    "bands=20\n",
    "hashbytes=4\n"
   ]
  },
  {
   "cell_type": "code",
   "execution_count": 103,
   "id": "gorgeous-brother",
   "metadata": {
    "jupyter": {
     "source_hidden": true
    }
   },
   "outputs": [],
   "source": [
    "import numpy as np\n",
    "sims_all = np.zeros((1000, 1000), dtype=np.float64)\n",
    "for i, line in enumerate(lines):\n",
    "    for j in range(i+1, len(lines)):\n",
    "        shingles_a = shingles(lines[i])\n",
    "        shingles_b = shingles(lines[j])\n",
    "        jaccard_sim = jaccard(shingles_a, shingles_b)\n",
    "        \n",
    "        # similarities are symmetric so we only care about the\n",
    "        # upper diagonal here and leave (j, i) to be 0\n",
    "        sims_all[i, j] = jaccard_sim"
   ]
  },
  {
   "cell_type": "code",
   "execution_count": 104,
   "id": "tribal-vienna",
   "metadata": {
    "collapsed": true,
    "jupyter": {
     "outputs_hidden": true,
     "source_hidden": true
    }
   },
   "outputs": [
    {
     "name": "stdout",
     "output_type": "stream",
     "text": [
      "Out of 2 pairs with similarity >= 90% 2 were found, that's 100.0%\n"
     ]
    }
   ],
   "source": [
    "# turn the candidates into a dictionary so we have easy access to\n",
    "# candidates pairs that were found\n",
    "candidates_dict = {(line_a, line_b): (docid_a, docid_b) for ((line_a, docid_a), (line_b, docid_b)) in candidates}\n",
    "found = 0\n",
    "for i in range(len(lines)):\n",
    "    for j in range(i+1, len(lines)):\n",
    "        if sims_all[i, j] >= .9:\n",
    "            # documents i and j have an actual Jaccard similarity >= 90%\n",
    "            found += ((i, j) in candidates_dict or (j, i) in candidates_dict)\n",
    "\n",
    "print('Out of {} pairs with similarity >= 90% {} were found, that\\'s {:.1%}'.format((sims_all >= .9).sum(), found, found / (sims_all >= .9).sum()))\n"
   ]
  },
  {
   "cell_type": "code",
   "execution_count": 105,
   "id": "automotive-steam",
   "metadata": {
    "jupyter": {
     "source_hidden": true
    }
   },
   "outputs": [],
   "source": [
    "num_candidates = []\n",
    "bands = [2, 5, 10, 20]\n",
    "for num_bands in bands:\n",
    "    with open('groundtruth.txt', 'rb') as fh:\n",
    "        feed = itertools.islice(fh, 1000)\n",
    "        candidates = candidate_duplicates(feed, char_ngram=5, seeds=100, bands=num_bands, hashbytes=4)\n",
    "        num_candidates.append(len(candidates))"
   ]
  },
  {
   "cell_type": "code",
   "execution_count": 106,
   "id": "coated-separate",
   "metadata": {
    "collapsed": true,
    "jupyter": {
     "outputs_hidden": true,
     "source_hidden": true
    }
   },
   "outputs": [
    {
     "data": {
      "image/png": "[encoded data removed]",
      "text/plain": [
       "<Figure size 576x432 with 1 Axes>"
      ]
     },
     "metadata": {
      "needs_background": "light"
     },
     "output_type": "display_data"
    }
   ],
   "source": [
    "import matplotlib.pyplot as plt\n",
    "%matplotlib inline\n",
    "fig, ax = plt.subplots(figsize=(8, 6))\n",
    "plt.bar(bands, num_candidates, align='center');\n",
    "plt.title('Number of candidate duplicate pairs found by LSH using 100 minhash fingerprint.');\n",
    "plt.xlabel('Number of bands');\n",
    "plt.ylabel('Number of candidate duplicates');\n",
    "plt.xticks(bands, bands);\n"
   ]
  },
  {
   "cell_type": "markdown",
   "id": "complicated-spanish",
   "metadata": {},
   "source": [
    "---\n",
    "## Up Next : \n",
    "\n",
    "[Train your own GPTBPE Tokenizer on your own data ](../../../Day3-3_train_own_GPT2BPETokenizer.ipynb)\n",
    "\n",
    "## Back To Start Menu\n",
    "[start menu](../../../../Start_Here.ipynb)"
   ]
  },
  {
   "cell_type": "markdown",
   "id": "organized-monthly",
   "metadata": {},
   "source": [
    "-----\n",
    "\n",
    "\n",
    "## Licensing \n",
    "\n",
    "This material is released by OpenACC-Standard.org, in collaboration with NVIDIA Corporation, under the Creative Commons Attribution 4.0 International (CC BY 4.0). "
   ]
  }
 ],
 "metadata": {
  "kernelspec": {
   "display_name": "Python 3",
   "language": "python",
   "name": "python3"
  },
  "language_info": {
   "codemirror_mode": {
    "name": "ipython",
    "version": 3
   },
   "file_extension": ".py",
   "mimetype": "text/x-python",
   "name": "python",
   "nbconvert_exporter": "python",
   "pygments_lexer": "ipython3",
   "version": "3.8.8"
  }
 },
 "nbformat": 4,
 "nbformat_minor": 5
}
